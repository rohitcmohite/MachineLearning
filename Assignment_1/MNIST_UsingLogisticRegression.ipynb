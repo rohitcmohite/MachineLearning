{
  "nbformat": 4,
  "nbformat_minor": 0,
  "metadata": {
    "accelerator": "GPU",
    "colab": {
      "name": "MNIST_UsingLogisticRegression.ipynb",
      "provenance": [],
      "collapsed_sections": []
    },
    "kernelspec": {
      "display_name": "Python 3",
      "language": "python",
      "name": "python3"
    },
    "language_info": {
      "codemirror_mode": {
        "name": "ipython",
        "version": 3
      },
      "file_extension": ".py",
      "mimetype": "text/x-python",
      "name": "python",
      "nbconvert_exporter": "python",
      "pygments_lexer": "ipython3",
      "version": "3.7.1"
    }
  },
  "cells": [
    {
      "cell_type": "code",
      "metadata": {
        "id": "3JjGG3n1iNa2"
      },
      "source": [
        "import tensorflow as tf\n",
        "import matplotlib.pyplot as plt\n",
        "import numpy as np"
      ],
      "execution_count": null,
      "outputs": []
    },
    {
      "cell_type": "code",
      "metadata": {
        "id": "c_4fXGXoiRgX"
      },
      "source": [
        "(x_train, y_train), (x_test, y_test) = tf.keras.datasets.mnist.load_data()"
      ],
      "execution_count": null,
      "outputs": []
    },
    {
      "cell_type": "code",
      "metadata": {
        "colab": {
          "base_uri": "https://localhost:8080/"
        },
        "id": "4eiPDls9jK2O",
        "outputId": "9b37066a-f230-475e-80db-cd2be26b8977"
      },
      "source": [
        "x_train.shape"
      ],
      "execution_count": null,
      "outputs": [
        {
          "output_type": "execute_result",
          "data": {
            "text/plain": [
              "(60000, 28, 28)"
            ]
          },
          "metadata": {
            "tags": []
          },
          "execution_count": 3
        }
      ]
    },
    {
      "cell_type": "code",
      "metadata": {
        "colab": {
          "base_uri": "https://localhost:8080/"
        },
        "id": "1icqSAeUjNDe",
        "outputId": "960e2327-f7a9-4226-e08e-a101dc4c8f24"
      },
      "source": [
        "x_test.shape"
      ],
      "execution_count": null,
      "outputs": [
        {
          "output_type": "execute_result",
          "data": {
            "text/plain": [
              "(10000, 28, 28)"
            ]
          },
          "metadata": {
            "tags": []
          },
          "execution_count": 4
        }
      ]
    },
    {
      "cell_type": "code",
      "metadata": {
        "colab": {
          "base_uri": "https://localhost:8080/"
        },
        "id": "dqTWKZUDjSIq",
        "outputId": "13e6ea7a-07da-4c26-924c-3632de137c80"
      },
      "source": [
        "y_train"
      ],
      "execution_count": null,
      "outputs": [
        {
          "output_type": "execute_result",
          "data": {
            "text/plain": [
              "array([5, 0, 4, ..., 5, 6, 8], dtype=uint8)"
            ]
          },
          "metadata": {
            "tags": []
          },
          "execution_count": 5
        }
      ]
    },
    {
      "cell_type": "code",
      "metadata": {
        "colab": {
          "base_uri": "https://localhost:8080/",
          "height": 282
        },
        "id": "4SPzajNljcMa",
        "outputId": "8ceb46e9-4484-4623-a7e6-7aebb712efaa"
      },
      "source": [
        "plt.imshow(x_train[1])"
      ],
      "execution_count": null,
      "outputs": [
        {
          "output_type": "execute_result",
          "data": {
            "text/plain": [
              "<matplotlib.image.AxesImage at 0x7f899ef57438>"
            ]
          },
          "metadata": {
            "tags": []
          },
          "execution_count": 6
        },
        {
          "output_type": "display_data",
          "data": {
            "image/png": "[encoded data removed]",
            "text/plain": [
              "<Figure size 432x288 with 1 Axes>"
            ]
          },
          "metadata": {
            "tags": [],
            "needs_background": "light"
          }
        }
      ]
    },
    {
      "cell_type": "code",
      "metadata": {
        "colab": {
          "base_uri": "https://localhost:8080/"
        },
        "id": "xnk-dL9zN_DE",
        "outputId": "166d6254-6cb5-4e9c-dae5-10325678526a"
      },
      "source": [
        "x_train = x_train.reshape(60000,28*28)\n",
        "x_train = x_train/255\n",
        "x_train = np.concatenate((np.zeros(len(y_train)).reshape(len(y_train),1), x_train), axis=1)\n",
        "x_train.shape"
      ],
      "execution_count": null,
      "outputs": [
        {
          "output_type": "execute_result",
          "data": {
            "text/plain": [
              "(60000, 785)"
            ]
          },
          "metadata": {
            "tags": []
          },
          "execution_count": 7
        }
      ]
    },
    {
      "cell_type": "code",
      "metadata": {
        "colab": {
          "base_uri": "https://localhost:8080/"
        },
        "id": "zGQ5op1kjwbR",
        "outputId": "f9d1b213-4eac-4fa0-b1b6-941ac3734900"
      },
      "source": [
        "y_train_0 = np.zeros(y_train.shape[0], dtype=int)\n",
        "y_train_0"
      ],
      "execution_count": null,
      "outputs": [
        {
          "output_type": "execute_result",
          "data": {
            "text/plain": [
              "array([0, 0, 0, ..., 0, 0, 0])"
            ]
          },
          "metadata": {
            "tags": []
          },
          "execution_count": 8
        }
      ]
    },
    {
      "cell_type": "code",
      "metadata": {
        "colab": {
          "base_uri": "https://localhost:8080/"
        },
        "id": "9PlZoWZKA-EV",
        "outputId": "800f1f5e-e6b0-43e2-cb09-05a35cf8752e"
      },
      "source": [
        "np.unique(y_train, return_counts=True)"
      ],
      "execution_count": null,
      "outputs": [
        {
          "output_type": "execute_result",
          "data": {
            "text/plain": [
              "(array([0, 1, 2, 3, 4, 5, 6, 7, 8, 9], dtype=uint8),\n",
              " array([5923, 6742, 5958, 6131, 5842, 5421, 5918, 6265, 5851, 5949]))"
            ]
          },
          "metadata": {
            "tags": []
          },
          "execution_count": 9
        }
      ]
    },
    {
      "cell_type": "code",
      "metadata": {
        "colab": {
          "base_uri": "https://localhost:8080/"
        },
        "id": "HM8ApGz8jz5t",
        "outputId": "8933410a-dc81-4a21-b90f-e817f4e15c3c"
      },
      "source": [
        "#  We will make one column for each of the classes with the same length as y.\n",
        "#  When the class is 5, make a column that has 1 for the rows with 5 and 0 otherwise.\n",
        "\n",
        "\n",
        "y_train_new = np.where(y_train==0, 1, 0)\n",
        "y_train_1 = np.where(y_train==1, 1, 0)\n",
        "y_train_2 = np.where(y_train==2, 1, 0)\n",
        "y_train_3 = np.where(y_train==3, 1, 0)\n",
        "y_train_4 = np.where(y_train==4, 1, 0)\n",
        "y_train_5 = np.where(y_train==5, 1, 0)\n",
        "y_train_6 = np.where(y_train==6, 1, 0)\n",
        "y_train_7 = np.where(y_train==7, 1, 0)\n",
        "y_train_8 = np.where(y_train==8, 1, 0)\n",
        "y_train_9 = np.where(y_train==9, 1, 0)\n",
        "\n",
        "np.unique(y_train_9, return_counts=True)"
      ],
      "execution_count": null,
      "outputs": [
        {
          "output_type": "execute_result",
          "data": {
            "text/plain": [
              "(array([0, 1]), array([54051,  5949]))"
            ]
          },
          "metadata": {
            "tags": []
          },
          "execution_count": 10
        }
      ]
    },
    {
      "cell_type": "code",
      "metadata": {
        "colab": {
          "base_uri": "https://localhost:8080/"
        },
        "id": "-ocx8a5bSWyL",
        "outputId": "acb0ed85-79da-44ee-e409-21fc3b6da233"
      },
      "source": [
        "y_all = np.concatenate((y_train_new.reshape(60000,1), y_train_1.reshape(60000,1), y_train_2.reshape(60000,1), y_train_3.reshape(60000,1), y_train_4.reshape(60000,1), y_train_5.reshape(60000,1), y_train_6.reshape(60000,1), y_train_7.reshape(60000,1), y_train_8.reshape(60000,1), y_train_9.reshape(60000,1)), axis=1)\n",
        "y_all.shape"
      ],
      "execution_count": null,
      "outputs": [
        {
          "output_type": "execute_result",
          "data": {
            "text/plain": [
              "(60000, 10)"
            ]
          },
          "metadata": {
            "tags": []
          },
          "execution_count": 11
        }
      ]
    },
    {
      "cell_type": "code",
      "metadata": {
        "colab": {
          "base_uri": "https://localhost:8080/"
        },
        "id": "HF_mEBqWINff",
        "outputId": "e59ae723-e6e6-41f7-cd7a-25b043a0389e"
      },
      "source": [
        "np.unique(y_train_new)"
      ],
      "execution_count": null,
      "outputs": [
        {
          "output_type": "execute_result",
          "data": {
            "text/plain": [
              "array([0, 1])"
            ]
          },
          "metadata": {
            "tags": []
          },
          "execution_count": 12
        }
      ]
    },
    {
      "cell_type": "code",
      "metadata": {
        "id": "BLQkWYb1K5DY"
      },
      "source": [
        "def sigmoid(z):\n",
        "  return 1/(1 + np.exp(-z))"
      ],
      "execution_count": null,
      "outputs": []
    },
    {
      "cell_type": "code",
      "metadata": {
        "id": "ZNgxvX3ML_S2"
      },
      "source": [
        "def costFunction(x_tn, y, theta):\n",
        "  \n",
        "  z =  np.dot(x_tn, theta)\n",
        "  \n",
        "  h_theta = sigmoid(z)\n",
        "  predict_1=np.zeros(len(y))\n",
        "  predict_0=np.zeros(len(y))\n",
        "  predict_1 = y * np.log(h_theta)\n",
        "  predict_0 = (1-y) * np.log(1 - h_theta)\n",
        "\n",
        "  J = (-1/x_tn.shape[0]) * np.sum(predict_1 + predict_0)\n",
        "  return J"
      ],
      "execution_count": null,
      "outputs": []
    },
    {
      "cell_type": "code",
      "metadata": {
        "id": "KWXVHxisRJKj"
      },
      "source": [
        "# Fitting the logistic regression model\n",
        "\n",
        "def fit(x_ty, y, learning_rate, epochs):\n",
        "  \n",
        "  theta = np.zeros(x_ty.shape[1])   # 5X1\n",
        "  N = len(y)\n",
        "  loss=[]\n",
        "  for _ in range(epochs):\n",
        "    z =  np.dot(x_ty, theta)   #1X5 5X1\n",
        "    h_theta = sigmoid(z)\n",
        "    theta = theta - ((learning_rate/N) * np.dot(x_ty.T, (h_theta - y)))\n",
        "    loss.append(costFunction(x_ty, y, theta))\n",
        "    \n",
        "  return loss,theta"
      ],
      "execution_count": null,
      "outputs": []
    },
    {
      "cell_type": "code",
      "metadata": {
        "id": "wYO4b_1dQvvo"
      },
      "source": [
        "# Prediction for single class\n",
        "\n",
        "def predict(x_tp, theta):\n",
        "  h_theta = sigmoid(np.dot(x_tp, theta))\n",
        "  return [1 if i>0.5 else 0 for i in h_theta]"
      ],
      "execution_count": null,
      "outputs": []
    },
    {
      "cell_type": "code",
      "metadata": {
        "id": "GKI1OjPyChAh"
      },
      "source": [
        "# Calling fit() function for multiple classes\n",
        "\n",
        "def multiple_class(x_ty, y1, learning_rate, epochs):\n",
        "  complete_loss = []\n",
        "  complete_theta = np.zeros((10,785))\n",
        "  for i in range(10):\n",
        "    y = y1[:,i]\n",
        "    loss,weights = fit(x_ty, y, learning_rate, epochs)\n",
        "    complete_loss.append(loss)\n",
        "    complete_theta[i] = weights\n",
        "\n",
        "  return complete_loss, complete_theta"
      ],
      "execution_count": null,
      "outputs": []
    },
    {
      "cell_type": "code",
      "metadata": {
        "id": "bnOIns1Fbfnw"
      },
      "source": [
        "# Prediction for multiple classes\n",
        "\n",
        "def predict_for_all(x_tp, theta):\n",
        "  h_theta=[]\n",
        "  for i in range(10):\n",
        "    h_theta1 = sigmoid(np.dot(x_tp, theta[i]))\n",
        "    h_theta = np.append(h_theta,h_theta1)\n",
        "  return h_theta"
      ],
      "execution_count": null,
      "outputs": []
    },
    {
      "cell_type": "code",
      "metadata": {
        "id": "IGwuU8JuNB0S"
      },
      "source": [
        "# Training for single class\n",
        "\n",
        "loss, weights = fit(x_train, y_train_new, learning_rate=0.1, epochs=20)"
      ],
      "execution_count": null,
      "outputs": []
    },
    {
      "cell_type": "code",
      "metadata": {
        "id": "koW1IdPUACnE"
      },
      "source": [
        "# Training for multiple class\n",
        "\n",
        "loss, weights = multiple_class(x_train, y_all, learning_rate=0.1, epochs=4000)"
      ],
      "execution_count": null,
      "outputs": []
    },
    {
      "cell_type": "code",
      "metadata": {
        "colab": {
          "base_uri": "https://localhost:8080/",
          "height": 299
        },
        "id": "4BLD4PSuX7XQ",
        "outputId": "49b7dc0f-7ac9-4693-af1f-1277bfe3cbec"
      },
      "source": [
        "# Checking from training set with multiple class\n",
        "\n",
        "num_to_predict = 203\n",
        "predicted_value = predict_for_all(x_train[num_to_predict], weights)\n",
        "print(f'Predicted value is : {np.argmax(predicted_value)}')\n",
        "plt.imshow((x_train[num_to_predict][1:]).reshape(28,28))"
      ],
      "execution_count": null,
      "outputs": [
        {
          "output_type": "stream",
          "text": [
            "Predicted value is : 8\n"
          ],
          "name": "stdout"
        },
        {
          "output_type": "execute_result",
          "data": {
            "text/plain": [
              "<matplotlib.image.AxesImage at 0x7f899c23cb70>"
            ]
          },
          "metadata": {
            "tags": []
          },
          "execution_count": 21
        },
        {
          "output_type": "display_data",
          "data": {
            "image/png": "[encoded data removed]",
            "text/plain": [
              "<Figure size 432x288 with 1 Axes>"
            ]
          },
          "metadata": {
            "tags": [],
            "needs_background": "light"
          }
        }
      ]
    },
    {
      "cell_type": "code",
      "metadata": {
        "colab": {
          "base_uri": "https://localhost:8080/",
          "height": 299
        },
        "id": "4NRhuVR2cOl6",
        "outputId": "6f7cc7a0-ebe3-490c-f518-0f3a1a4f57cb"
      },
      "source": [
        "# Checking from test set with multiple class\n",
        "\n",
        "num_index = 99\n",
        "x_test_ind = x_test[num_index]/255\n",
        "x_flatten = (x_test_ind).reshape(784,)\n",
        "fl = np.concatenate(((np.zeros(1)).reshape(1,), x_flatten), axis=0)\n",
        "predicted_values = predict_for_all((fl), weights)\n",
        "print(f'Predicted value is : {np.argmax(predicted_values)}')\n",
        "plt.imshow(x_test[num_index])"
      ],
      "execution_count": null,
      "outputs": [
        {
          "output_type": "stream",
          "text": [
            "Predicted value is : 9\n"
          ],
          "name": "stdout"
        },
        {
          "output_type": "execute_result",
          "data": {
            "text/plain": [
              "<matplotlib.image.AxesImage at 0x7f899be684e0>"
            ]
          },
          "metadata": {
            "tags": []
          },
          "execution_count": 34
        },
        {
          "output_type": "display_data",
          "data": {
            "image/png": "[encoded data removed]",
            "text/plain": [
              "<Figure size 432x288 with 1 Axes>"
            ]
          },
          "metadata": {
            "tags": [],
            "needs_background": "light"
          }
        }
      ]
    },
    {
      "cell_type": "code",
      "metadata": {
        "id": "wcjAHNLDxam0"
      },
      "source": [
        ""
      ],
      "execution_count": null,
      "outputs": []
    }
  ]
}