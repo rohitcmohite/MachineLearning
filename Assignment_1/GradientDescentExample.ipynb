{
  "nbformat": 4,
  "nbformat_minor": 0,
  "metadata": {
    "kernelspec": {
      "display_name": "Python 3",
      "language": "python",
      "name": "python3"
    },
    "language_info": {
      "codemirror_mode": {
        "name": "ipython",
        "version": 3
      },
      "file_extension": ".py",
      "mimetype": "text/x-python",
      "name": "python",
      "nbconvert_exporter": "python",
      "pygments_lexer": "ipython3",
      "version": "3.7.1"
    },
    "colab": {
      "name": "GradientDescentExample.ipynb",
      "provenance": []
    }
  },
  "cells": [
    {
      "cell_type": "code",
      "metadata": {
        "id": "DnPj1ZYxq9yY"
      },
      "source": [
        "%matplotlib inline\n",
        "import matplotlib.pyplot as plt\n",
        "import seaborn as sns; sns.set()\n",
        "import numpy as np"
      ],
      "execution_count": null,
      "outputs": []
    },
    {
      "cell_type": "code",
      "metadata": {
        "id": "vPNAK12Jq9ye",
        "outputId": "e1659284-6ab2-4bb6-8e7f-2140437be8ed"
      },
      "source": [
        "rng = np.random.RandomState(1)\n",
        "x = 10 * rng.rand(50)\n",
        "y = 2 * x - 5 + rng.randn(50)\n",
        "plt.scatter(x, y);"
      ],
      "execution_count": null,
      "outputs": [
        {
          "output_type": "display_data",
          "data": {
            "image/png": "[encoded data removed]",
            "text/plain": [
              "<Figure size 432x288 with 1 Axes>"
            ]
          },
          "metadata": {
            "tags": [],
            "needs_background": "light"
          }
        }
      ]
    },
    {
      "cell_type": "code",
      "metadata": {
        "id": "H5zewZntq9yh"
      },
      "source": [
        "def update_parameters(x, y, m, b, learning_rate):\n",
        "    n = len(x)\n",
        "    m_deriv = 0\n",
        "    b_deriv = 0\n",
        "    for i in range(n):\n",
        "        m_deriv = m_deriv + ((-2* x[i]) * (y[i] - ((m * x[i]) + b)))\n",
        "        #print(m_deriv)\n",
        "        b_deriv = b_deriv + ((-2) * (y[i] - ((m * x[i]) + b)))\n",
        "        #print(b_deriv)\n",
        "        \n",
        "    Jm_deriv = (1/float(n)) * m_deriv\n",
        "    Jb_deriv = (1/float(n)) * b_deriv\n",
        "    \n",
        "    m = m - (learning_rate * Jm_deriv)\n",
        "    b = b - (learning_rate * Jb_deriv)\n",
        "    \n",
        "    #print(f'm = {m}      b={b}')\n",
        "    \n",
        "    return (m,b)\n",
        "\n",
        "\n",
        "def cost_function(x,y,m,b, cost_array):\n",
        "    n = len(x)\n",
        "    sum = 0\n",
        "    \n",
        "    for i in range(n):\n",
        "        sum = sum + (y[i] -((m * x[i]) + b))**2\n",
        "    J = (1/n)* sum\n",
        "    cost_array = np.append(cost_array, J)\n",
        "    if len(cost_array) ==1:\n",
        "        print(f'Cost is {J}')\n",
        "    else:\n",
        "        print(f'Cost is {cost_array[-1]}      diff = {cost_array[-2] - cost_array[-1]}')\n",
        "        #print(\"Cost in new form {:.2}\".format(cost_array[-1]))\n",
        "    return cost_array"
      ],
      "execution_count": null,
      "outputs": []
    },
    {
      "cell_type": "code",
      "metadata": {
        "id": "FbrjOiEYq9yj",
        "outputId": "41e56ad4-f139-4b29-d557-0422b7fb014b"
      },
      "source": [
        "m = 0\n",
        "b = 0\n",
        "cost_array=np.array([])\n",
        "\n",
        "for i in range(100):\n",
        "    (m,b) = update_parameters(x, y, m, b, learning_rate=0.03)\n",
        "    cost_array = cost_function(x,y,m,b, cost_array)\n",
        "    "
      ],
      "execution_count": null,
      "outputs": [
        {
          "output_type": "stream",
          "text": [
            "Cost is 50.16997204135129\n",
            "Cost is 42.752558420273324      diff = 7.417413621077969\n",
            "Cost is 36.573036728176746      diff = 6.1795216920965785\n",
            "Cost is 31.419913586581192      diff = 5.153123141595554\n",
            "Cost is 27.118004987710783      diff = 4.301908598870408\n",
            "Cost is 23.522196510139484      diff = 3.5958084775712997\n",
            "Cost is 20.512276059395408      diff = 3.009920450744076\n",
            "Cost is 17.98865477515521      diff = 2.523621284240196\n",
            "Cost is 15.868823436634475      diff = 2.1198313385207364\n",
            "Cost is 14.084417940447814      diff = 1.784405496186661\n",
            "Cost is 12.578789156935978      diff = 1.5056287835118365\n",
            "Cost is 11.304990467135001      diff = 1.2737986898009765\n",
            "Cost is 10.224111185314133      diff = 1.0808792818208683\n",
            "Cost is 9.303896413073597      diff = 0.920214772240536\n",
            "Cost is 8.517604090708252      diff = 0.7862923223653446\n",
            "Cost is 7.84305847455613      diff = 0.6745456161521224\n",
            "Cost is 7.261866277326614      diff = 0.581192197229516\n",
            "Cost is 6.758767512002398      diff = 0.503098765324216\n",
            "Cost is 6.321097885908207      diff = 0.43766962609419036\n",
            "Cost is 5.938343571419072      diff = 0.38275431448913544\n",
            "Cost is 5.601772475545731      diff = 0.33657109587334055\n",
            "Cost is 5.304128859880373      diff = 0.2976436156653586\n",
            "Cost is 5.039380422492388      diff = 0.2647484373879845\n",
            "Cost is 4.802508824974189      diff = 0.2368715975181992\n",
            "Cost is 4.589336197730275      diff = 0.21317262724391384\n",
            "Cost is 4.396381440080922      diff = 0.19295475764935333\n",
            "Cost is 4.220741194609064      diff = 0.17564024547185753\n",
            "Cost is 4.059991255339179      diff = 0.160749939269885\n",
            "Cost is 3.9121048982042512      diff = 0.14788635713492804\n",
            "Cost is 3.7753852258377756      diff = 0.13671967236647564\n",
            "Cost is 3.648409118557798      diff = 0.12697610727997777\n",
            "Cost is 3.529980797323643      diff = 0.11842832123415503\n",
            "Cost is 3.41909334721139      diff = 0.11088745011225276\n",
            "Cost is 3.3148968338013782      diff = 0.10419651341001179\n",
            "Cost is 3.2166718799276715      diff = 0.09822495387370678\n",
            "Cost is 3.1238077648921734      diff = 0.09286411503549807\n",
            "Cost is 3.03578426944021      diff = 0.0880234954519632\n",
            "Cost is 2.952156623281072      diff = 0.08362764615913809\n",
            "Cost is 2.8725430224790127      diff = 0.07961360080205937\n",
            "Cost is 2.796614275581545      diff = 0.07592874689746765\n",
            "Cost is 2.7240852131585753      diff = 0.07252906242296975\n",
            "Cost is 2.654707558202681      diff = 0.06937765495589421\n",
            "Cost is 2.5882640068274134      diff = 0.0664435513752677\n",
            "Cost is 2.5245633117515367      diff = 0.06370069507587672\n",
            "Cost is 2.463436196708704      diff = 0.061127115042832525\n",
            "Cost is 2.4047319594459764      diff = 0.058704237262727776\n",
            "Cost is 2.3483156454240603      diff = 0.05641631402191605\n",
            "Cost is 2.2940656945797144      diff = 0.05424995084434592\n",
            "Cost is 2.241871980278255      diff = 0.05219371430145925\n",
            "Cost is 2.191634173470059      diff = 0.05023780680819634\n",
            "Cost is 2.1432603765645117      diff = 0.048373796905547106\n",
            "Cost is 2.0966659810582335      diff = 0.0465943955062782\n",
            "Cost is 2.0517727108412376      diff = 0.04489327021699596\n",
            "Cost is 2.0085078196363955      diff = 0.043264891204842115\n",
            "Cost is 1.9668034164368735      diff = 0.041704403199521956\n",
            "Cost is 1.9265958972862578      diff = 0.04020751915061571\n",
            "Cost is 1.8878254654563769      diff = 0.038770431829880936\n",
            "Cost is 1.8504357251508123      diff = 0.03738974030556452\n",
            "Cost is 1.8143733364072712      diff = 0.036062388743541174\n",
            "Cost is 1.7795877209800057      diff = 0.03478561542726544\n",
            "Cost is 1.7460308107295661      diff = 0.03355691025043961\n",
            "Cost is 1.713656831493443      diff = 0.03237397923612306\n",
            "Cost is 1.6824221166092173      diff = 0.0312347148842258\n",
            "Cost is 1.6522849452542483      diff = 0.03013717135496896\n",
            "Cost is 1.623205401588159      diff = 0.029079543666089336\n",
            "Cost is 1.5951452513654603      diff = 0.0280601502226987\n",
            "Cost is 1.5680678332501412      diff = 0.027077418115319052\n",
            "Cost is 1.541937962531625      diff = 0.026129870718516246\n",
            "Cost is 1.5167218453291138      diff = 0.025216117202511157\n",
            "Cost is 1.492387001692531      diff = 0.024334843636582892\n",
            "Cost is 1.4689021962745323      diff = 0.023484805417998578\n",
            "Cost is 1.446237375468853      diff = 0.022664820805679442\n",
            "Cost is 1.4243636100932429      diff = 0.021873765375610033\n",
            "Cost is 1.4032530428471321      diff = 0.021110567246110712\n",
            "Cost is 1.3828788399000882      diff = 0.02037420294704395\n",
            "Cost is 1.3632151460716821      diff = 0.019663693828406048\n",
            "Cost is 1.3442370431501212      diff = 0.01897810292156099\n",
            "Cost is 1.3259205109691272      diff = 0.01831653218099394\n",
            "Cost is 1.308242390922351      diff = 0.017678120046776158\n",
            "Cost is 1.291180351644448      diff = 0.017062039277903063\n",
            "Cost is 1.2747128566293322      diff = 0.016467495015115796\n",
            "Cost is 1.258819133590563      diff = 0.015893723038769236\n",
            "Cost is 1.2434791453975895      diff = 0.015339988192973442\n",
            "Cost is 1.2286735624454979      diff = 0.014805582952091667\n",
            "Cost is 1.2143837363358825      diff = 0.014289826109615378\n",
            "Cost is 1.2005916747632288      diff = 0.013792061572653669\n",
            "Cost is 1.1872800175151232      diff = 0.013311657248105568\n",
            "Cost is 1.1744320135063875      diff = 0.012848004008735758\n",
            "Cost is 1.1620314987770488      diff = 0.012400514729338674\n",
            "Cost is 1.1500628753923978      diff = 0.01196862338465099\n",
            "Cost is 1.1385110911903253      diff = 0.01155178420207248\n",
            "Cost is 1.127361620327122      diff = 0.011149470863203392\n",
            "Cost is 1.1166004445778976      diff = 0.010761175749224305\n",
            "Cost is 1.1062140353520802      diff = 0.010386409225817461\n",
            "Cost is 1.0961893363880966      diff = 0.010024698963983614\n",
            "Cost is 1.0865137470945203      diff = 0.009675589293576259\n",
            "Cost is 1.0771751065075956      diff = 0.009338640586924685\n",
            "Cost is 1.0681616778374676      diff = 0.009013428670127999\n",
            "Cost is 1.0594621335774417      diff = 0.008699544260025949\n",
            "Cost is 1.0510655411523908      diff = 0.008396592425050864\n"
          ],
          "name": "stdout"
        }
      ]
    },
    {
      "cell_type": "code",
      "metadata": {
        "id": "xg-1Faahq9yk",
        "outputId": "ebb17164-b22e-4e07-c17c-1fbce3a83538"
      },
      "source": [
        "xfit = np.linspace(0, 10, 1000)\n",
        "yfit = m*xfit + b\n",
        "plt.scatter(x, y)\n",
        "plt.plot(xfit, yfit)"
      ],
      "execution_count": null,
      "outputs": [
        {
          "output_type": "execute_result",
          "data": {
            "text/plain": [
              "[<matplotlib.lines.Line2D at 0x17b9b9fb2e8>]"
            ]
          },
          "metadata": {
            "tags": []
          },
          "execution_count": 56
        },
        {
          "output_type": "display_data",
          "data": {
            "image/png": "[encoded data removed]",
            "text/plain": [
              "<Figure size 432x288 with 1 Axes>"
            ]
          },
          "metadata": {
            "tags": [],
            "needs_background": "light"
          }
        }
      ]
    },
    {
      "cell_type": "code",
      "metadata": {
        "id": "u-BRPULUq9yl",
        "outputId": "dbb69207-ee16-4d2c-d74b-df75a849bb82"
      },
      "source": [
        "# Here we seee how the cost evolved with time\n",
        "plt.plot(cost_array)"
      ],
      "execution_count": null,
      "outputs": [
        {
          "output_type": "execute_result",
          "data": {
            "text/plain": [
              "[<matplotlib.lines.Line2D at 0x17b9b316da0>]"
            ]
          },
          "metadata": {
            "tags": []
          },
          "execution_count": 58
        },
        {
          "output_type": "display_data",
          "data": {
            "image/png": "[encoded data removed]",
            "text/plain": [
              "<Figure size 432x288 with 1 Axes>"
            ]
          },
          "metadata": {
            "tags": [],
            "needs_background": "light"
          }
        }
      ]
    },
    {
      "cell_type": "code",
      "metadata": {
        "id": "_0dtshVYq9ym",
        "outputId": "74227397-6f98-4eea-f9d0-1507cc1b842b"
      },
      "source": [
        "# Checking with different Learning rate\n",
        "m = 0\n",
        "b = 0\n",
        "cost_array=np.array([])\n",
        "\n",
        "for i in range(100):\n",
        "    (m,b) = update_parameters(x, y, m, b, learning_rate=0.001)\n",
        "    cost_array = cost_function(x,y,m,b, cost_array)"
      ],
      "execution_count": null,
      "outputs": [
        {
          "output_type": "stream",
          "text": [
            "Cost is 52.881775413222954\n",
            "Cost is 47.44597752253177      diff = 5.435797890691184\n",
            "Cost is 42.67915505763422      diff = 4.766822464897551\n",
            "Cost is 38.49883800416435      diff = 4.180317053469871\n",
            "Cost is 34.8327232582465      diff = 3.666114745917845\n",
            "Cost is 31.617421248699912      diff = 3.2153020095465905\n",
            "Cost is 28.797357075790178      diff = 2.820064172909735\n",
            "Cost is 26.323807117711      diff = 2.473549958079179\n",
            "Cost is 24.154054404320775      diff = 2.169752713390224\n",
            "Cost is 22.25064811649378      diff = 1.9034062878269928\n",
            "Cost is 20.58075437446956      diff = 1.6698937420242217\n",
            "Cost is 19.115587061082916      diff = 1.4651673133866439\n",
            "Cost is 17.82990881316625      diff = 1.2856782479166675\n",
            "Cost is 16.701593530784326      diff = 1.128315282381923\n",
            "Cost is 15.711242820376793      diff = 0.9903507104075331\n",
            "Cost is 14.841849722830473      diff = 0.86939309754632\n",
            "Cost is 14.078503897190409      diff = 0.763345825640064\n",
            "Cost is 13.408133149354008      diff = 0.6703707478364009\n",
            "Cost is 12.819276825135153      diff = 0.5888563242188543\n",
            "Cost is 12.301887139455117      diff = 0.5173896856800368\n",
            "Cost is 11.847154997691925      diff = 0.4547321417631913\n",
            "Cost is 11.447357289791968      diff = 0.39979770789995683\n",
            "Cost is 11.095723009979757      diff = 0.3516342798122114\n",
            "Cost is 10.786315881243919      diff = 0.3094071287358382\n",
            "Cost is 10.513931449888954      diff = 0.2723844313549648\n",
            "Cost is 10.274006866281491      diff = 0.23992458360746305\n",
            "Cost is 10.062541787835658      diff = 0.2114650784458334\n",
            "Cost is 9.876029033086725      diff = 0.18651275474893225\n",
            "Cost is 9.71139378473793      diff = 0.1646352483487945\n",
            "Cost is 9.565940287762036      diff = 0.14545349697589494\n",
            "Cost is 9.437305118566567      diff = 0.12863516919546925\n",
            "Cost is 9.323416215141267      diff = 0.11388890342530011\n",
            "Cost is 9.22245695797334      diff = 0.10095925716792564\n",
            "Cost is 9.132834679071193      diff = 0.08962227890214791\n",
            "Cost is 9.053153053199075      diff = 0.07968162587211758\n",
            "Cost is 8.98218789272321      diff = 0.07096516047586476\n",
            "Cost is 8.918865926471879      diff = 0.06332196625133157\n",
            "Cost is 8.862246194739823      diff = 0.05661973173205581\n",
            "Cost is 8.811503737918471      diff = 0.05074245682135192\n",
            "Cost is 8.765915295993594      diff = 0.04558844192487754\n",
            "Cost is 8.724846771010336      diff = 0.04106852498325786\n",
            "Cost is 8.687742235166915      diff = 0.03710453584342055\n",
            "Cost is 8.654114293991668      diff = 0.033627941175247145\n",
            "Cost is 8.62353563754867      diff = 0.030578656442997953\n",
            "Cost is 8.595631633211577      diff = 0.027904004337093724\n",
            "Cost is 8.570073831601118      diff = 0.025557801610458952\n",
            "Cost is 8.546574273111279      diff = 0.023499558489838535\n",
            "Cost is 8.524880496327555      diff = 0.021693776783724417\n",
            "Cost is 8.504771161807893      diff = 0.02010933451966146\n",
            "Cost is 8.48605221536443      diff = 0.018718946443463835\n",
            "Cost is 8.468553524336187      diff = 0.01749869102824242\n",
            "Cost is 8.452125928542507      diff = 0.016427595793679473\n",
            "Cost is 8.436638654795187      diff = 0.015487273747320174\n",
            "Cost is 8.42197705014986      diff = 0.014661604645327841\n",
            "Cost is 8.408040594602385      diff = 0.01393645554747458\n",
            "Cost is 8.39474115878022      diff = 0.013299435822164085\n",
            "Cost is 8.382001476425797      diff = 0.012739682354423465\n",
            "Cost is 8.369753805192282      diff = 0.012247671233515334\n",
            "Cost is 8.357938752536615      diff = 0.011815052655666847\n",
            "Cost is 8.346504246356535      diff = 0.011434506180080461\n",
            "Cost is 8.335404632527595      diff = 0.011099613828939425\n",
            "Cost is 8.324599883695946      diff = 0.010804748831649391\n",
            "Cost is 8.314054905611112      diff = 0.0105449780848339\n",
            "Cost is 8.303738928974298      diff = 0.010315976636814383\n",
            "Cost is 8.293624976259565      diff = 0.010113952714732477\n",
            "Cost is 8.2836893942654      diff = 0.009935581994165332\n",
            "Cost is 8.27391144429336      diff = 0.00977794997204029\n",
            "Cost is 8.264272942849574      diff = 0.009638501443784975\n",
            "Cost is 8.254757946640533      diff = 0.009514996209041726\n",
            "Cost is 8.245352476402683      diff = 0.009405470237849656\n",
            "Cost is 8.23604427477832      diff = 0.009308201624362411\n",
            "Cost is 8.226822594040547      diff = 0.009221680737773852\n",
            "Cost is 8.21767800998755      diff = 0.009144584052997118\n",
            "Cost is 8.208602258779981      diff = 0.009075751207568317\n",
            "Cost is 8.199588093893064      diff = 0.009014164886917087\n",
            "Cost is 8.190629160703628      diff = 0.008958933189436635\n",
            "Cost is 8.181719886538104      diff = 0.008909274165523229\n",
            "Cost is 8.172855384275385      diff = 0.008864502262719398\n",
            "Cost is 8.16403136783353      diff = 0.00882401644185471\n",
            "Cost is 8.155244078075297      diff = 0.008787289758233285\n",
            "Cost is 8.146490217848028      diff = 0.008753860227269428\n",
            "Cost is 8.137766895031834      diff = 0.008723322816193146\n",
            "Cost is 8.129071572608801      diff = 0.008695322423033502\n",
            "Cost is 8.120402024887646      diff = 0.008669547721154913\n",
            "Cost is 8.111756299125053      diff = 0.008645725762592704\n",
            "Cost is 8.10313268187828      diff = 0.008623617246772852\n",
            "Cost is 8.094529669505821      diff = 0.008603012372459418\n",
            "Cost is 8.085945942304807      diff = 0.008583727201013858\n",
            "Cost is 8.07738034183666      diff = 0.008565600468147139\n",
            "Cost is 8.068831851048126      diff = 0.00854849078853448\n",
            "Cost is 8.060299576842912      diff = 0.008532274205213852\n",
            "Cost is 8.051782734801964      diff = 0.008516842040947381\n",
            "Cost is 8.043280635787365      diff = 0.008502099014599196\n",
            "Cost is 8.034792674197737      diff = 0.008487961589628057\n",
            "Cost is 8.02631831767152      diff = 0.008474356526217974\n",
            "Cost is 8.017857098059613      diff = 0.008461219611906046\n",
            "Cost is 8.009408603510916      diff = 0.008448494548696672\n",
            "Cost is 8.000972471533563      diff = 0.008436131977353156\n",
            "Cost is 7.99254838291156      diff = 0.008424088622003723\n",
            "Cost is 7.98413605637141      diff = 0.00841232654014945\n"
          ],
          "name": "stdout"
        }
      ]
    },
    {
      "cell_type": "code",
      "metadata": {
        "id": "ZnzSTShJq9ym",
        "outputId": "1fb2994a-b65c-4156-a564-531a445d2a87"
      },
      "source": [
        "xfit = np.linspace(0, 10, 1000)\n",
        "yfit = m*xfit + b\n",
        "plt.scatter(x, y)\n",
        "plt.plot(xfit, yfit)"
      ],
      "execution_count": null,
      "outputs": [
        {
          "output_type": "execute_result",
          "data": {
            "text/plain": [
              "[<matplotlib.lines.Line2D at 0x17b9b569f98>]"
            ]
          },
          "metadata": {
            "tags": []
          },
          "execution_count": 66
        },
        {
          "output_type": "display_data",
          "data": {
            "image/png": "[encoded data removed]",
            "text/plain": [
              "<Figure size 432x288 with 1 Axes>"
            ]
          },
          "metadata": {
            "tags": [],
            "needs_background": "light"
          }
        }
      ]
    },
    {
      "cell_type": "code",
      "metadata": {
        "id": "FINVoLJtq9yn",
        "outputId": "aa481ec0-80d5-4220-bed4-a201b0ce20ed"
      },
      "source": [
        "# Checking with different Learning rate\n",
        "m = 0\n",
        "b = 0\n",
        "cost_array=np.array([])\n",
        "\n",
        "for i in range(100):\n",
        "    (m,b) = update_parameters(x, y, m, b, learning_rate=0.5)\n",
        "    cost_array = cost_function(x,y,m,b, cost_array)"
      ],
      "execution_count": null,
      "outputs": [
        {
          "output_type": "stream",
          "text": [
            "Cost is 47735.65020999097\n",
            "Cost is 45377581.53899852      diff = -45329845.88878853\n",
            "Cost is 43140373774.75514      diff = -43094996193.21614\n",
            "Cost is 41013467495999.18      diff = -40970327122224.42\n",
            "Cost is 3.899142193109195e+16      diff = -3.895040846359595e+16\n",
            "Cost is 3.706906723643385e+19      diff = -3.703007581450275e+19\n",
            "Cost is 3.524148845373416e+22      diff = -3.5204419386497724e+22\n",
            "Cost is 3.3504012941927985e+25      diff = -3.3468771453474253e+25\n",
            "Cost is 3.1852198430453523e+28      diff = -3.1818694417511594e+28\n",
            "Cost is 3.0281821661527892e+31      diff = -3.0249969463097438e+31\n",
            "Cost is 2.878886759238126e+34      diff = -2.8758585770719734e+34\n",
            "Cost is 2.736951912984224e+37      diff = -2.734073026224986e+37\n",
            "Cost is 2.6020147371029004e+40      diff = -2.599277785189916e+40\n",
            "Cost is 2.4737302325193247e+43      diff = -2.471128217782222e+43\n",
            "Cost is 2.351770409299612e+46      diff = -2.3492966790670927e+46\n",
            "Cost is 2.2358234480663226e+49      diff = -2.233471677657023e+49\n",
            "Cost is 2.1255929027578516e+52      diff = -2.1233570793097852e+52\n",
            "Cost is 2.0207969426933597e+55      diff = -2.0186713497906019e+55\n",
            "Cost is 1.92116763200542e+58      diff = -1.9191468350627265e+58\n",
            "Cost is 1.826450244598067e+61      diff = -1.8245290769660618e+61\n",
            "Cost is 1.736402612878774e+64      diff = -1.734576162634176e+64\n",
            "Cost is 1.6507945085992423e+67      diff = -1.6490581059863635e+67\n",
            "Cost is 1.569407054221974e+70      diff = -1.5677562597133748e+70\n",
            "Cost is 1.492032163307637e+73      diff = -1.490462756253415e+73\n",
            "Cost is 1.4184720084924518e+76      diff = -1.4169799763291442e+76\n",
            "Cost is 1.348538515695355e+79      diff = -1.3471200436868626e+79\n",
            "Cost is 1.2820528832617486e+82      diff = -1.2807043447460532e+82\n",
            "Cost is 1.2188451248144242e+85      diff = -1.2175630719311624e+85\n",
            "Cost is 1.1587536346428449e+88      diff = -1.1575347895180305e+88\n",
            "Cost is 1.1016247745195996e+91      diff = -1.1004660208849566e+91\n",
            "Cost is 1.0473124808876314e+94      diff = -1.0462108561131118e+94\n",
            "Cost is 9.956778914139168e+96      diff = -9.946305789330291e+96\n",
            "Cost is 9.465889899547834e+99      diff = -9.455933120633695e+99\n",
            "Cost is 8.99920269025162e+102      diff = -8.98973680035207e+102\n",
            "Cost is 8.555524089087539e+105      diff = -8.546524886397287e+105\n",
            "Cost is 8.133719725887249e+108      diff = -8.125164201798161e+108\n",
            "Cost is 7.732711157189113e+111      diff = -7.724577437463225e+111\n",
            "Cost is 7.351473108940243e+114      diff = -7.343740397783054e+114\n",
            "Cost is 6.989030855138897e+117      diff = -6.981679382029957e+117\n",
            "Cost is 6.644457725714936e+120      diff = -6.637468694859797e+120\n",
            "Cost is 6.31687273727675e+123      diff = -6.310228279551035e+123\n",
            "Cost is 6.005438340667099e+126      diff = -5.999121467929822e+126\n",
            "Cost is 5.709358279568962e+129      diff = -5.703352841228294e+129\n",
            "Cost is 5.427875554686272e+132      diff = -5.422166196406703e+132\n",
            "Cost is 5.160270488294716e+135      diff = -5.154842612740029e+135\n",
            "Cost is 4.9058588842139527e+138      diff = -4.900698613725658e+138\n",
            "Cost is 4.6639902784968914e+141      diff = -4.659084419612678e+141\n",
            "Cost is 4.4340462763634684e+144      diff = -4.429382286084971e+144\n",
            "Cost is 4.215438971126887e+147      diff = -4.2110049248505235e+147\n",
            "Cost is 4.007609441069955e+150      diff = -4.003394002098828e+150\n",
            "Cost is 3.810026320428395e+153      diff = -3.806018710987325e+153\n",
            "Cost is 3.622184440827536e+156      diff = -3.618374414507108e+156\n",
            "Cost is 3.4436035396988724e+159      diff = -3.4399813552580447e+159\n",
            "Cost is 3.2738270323742522e+162      diff = -3.2703834288345532e+162\n",
            "Cost is 3.1124208447182755e+165      diff = -3.1091470176859014e+165\n",
            "Cost is 2.9589723033142256e+168      diff = -2.955859882469507e+168\n",
            "Cost is 2.813089080366062e+171      diff = -2.810130108062748e+171\n",
            "Cost is 2.674398190618823e+174      diff = -2.671585101538457e+174\n",
            "Cost is 2.5425450377328645e+177      diff = -2.5398706395422457e+177\n",
            "Cost is 2.417192507673732e+180      diff = -2.4146499626359994e+180\n",
            "Cost is 2.298020106799744e+183      diff = -2.2956029142920703e+183\n",
            "Cost is 2.184723142443525e+186      diff = -2.182425122336725e+186\n",
            "Cost is 2.0770119438925557e+189      diff = -2.0748272207501122e+189\n",
            "Cost is 1.9746111217768866e+192      diff = -1.972534109832994e+192\n",
            "Cost is 1.8772588639705336e+195      diff = -1.8752842528487568e+195\n",
            "Cost is 1.7847062662063413e+198      diff = -1.7828290073423706e+198\n",
            "Cost is 1.6967166956928412e+201      diff = -1.694931989426635e+201\n",
            "Cost is 1.613065186106088e+204      diff = -1.6113684694103952e+204\n",
            "Cost is 1.533537862409593e+207      diff = -1.531924797223487e+207\n",
            "Cost is 1.4579313940317824e+210      diff = -1.4563978561693727e+210\n",
            "Cost is 1.3860524750028894e+213      diff = -1.3845945436088576e+213\n",
            "Cost is 1.3177173297221377e+216      diff = -1.3163312772471349e+216\n",
            "Cost is 1.2527512430915859e+219      diff = -1.2514335257618638e+219\n",
            "Cost is 1.1909881138153106e+222      diff = -1.1897353625722191e+222\n",
            "Cost is 1.1322700297218142e+225      diff = -1.1310790416079988e+225\n",
            "Cost is 1.0764468640239063e+228      diff = -1.0753145939941845e+228\n",
            "Cost is 1.0233758914837576e+231      diff = -1.0222994446197337e+231\n",
            "Cost is 9.72921423501789e+233      diff = -9.718980476103053e+233\n",
            "Cost is 9.249544611964027e+236      diff = -9.239815397729009e+236\n",
            "Cost is 8.793523655875737e+239      diff = -8.784274111263772e+239\n",
            "Cost is 8.3599854404104425e+242      diff = -8.351191916754567e+242\n",
            "Cost is 7.947821521714483e+245      diff = -7.939461536274072e+245\n",
            "Cost is 7.555978104421992e+248      diff = -7.548030282900277e+248\n",
            "Cost is 7.183453347375694e+251      diff = -7.175897369271272e+251\n",
            "Cost is 6.829294802181078e+254      diff = -6.822111348833703e+254\n",
            "Cost is 6.492596978044835e+257      diff = -6.485767683242654e+257\n",
            "Cost is 6.172499026671713e+260      diff = -6.166006429693668e+260\n",
            "Cost is 5.868182541300525e+263      diff = -5.862010042273853e+263\n",
            "Cost is 5.578869464252045e+266      diff = -5.573001281710745e+266\n",
            "Cost is 5.303820097638978e+269      diff = -5.298241228174726e+269\n",
            "Cost is 5.0423312121518825e+272      diff = -5.037027392054243e+272\n",
            "Cost is 4.793734249085707e+275      diff = -4.7886919178735553e+275\n",
            "Cost is 4.557393611010006e+278      diff = -4.55259987676092e+278\n",
            "Cost is 4.33270503671249e+281      diff = -4.32814764310148e+281\n",
            "Cost is 4.119094056261134e+284      diff = -4.1147613512244216e+284\n",
            "Cost is 3.91601452223476e+287      diff = -3.9118954281784986e+287\n",
            "Cost is 3.722947213366899e+290      diff = -3.719031198844664e+290\n",
            "Cost is 3.539398507032769e+293      diff = -3.5356755598194024e+293\n",
            "Cost is 3.364899117185311e+296      diff = -3.361359718678278e+296\n",
            "Cost is 3.1990028945134705e+299      diff = -3.1956379953962853e+299\n"
          ],
          "name": "stdout"
        }
      ]
    },
    {
      "cell_type": "code",
      "metadata": {
        "id": "Z6hbcI1Iq9yo",
        "outputId": "dfa8463f-59fc-40c1-92cb-4d10a8f135cd"
      },
      "source": [
        "xfit = np.linspace(0, 10, 1000)\n",
        "yfit = m*xfit + b\n",
        "plt.scatter(x, y)\n",
        "plt.plot(xfit, yfit)"
      ],
      "execution_count": null,
      "outputs": [
        {
          "output_type": "execute_result",
          "data": {
            "text/plain": [
              "[<matplotlib.lines.Line2D at 0x17b9b43d630>]"
            ]
          },
          "metadata": {
            "tags": []
          },
          "execution_count": 69
        },
        {
          "output_type": "display_data",
          "data": {
            "image/png": "[encoded data removed]",
            "text/plain": [
              "<Figure size 432x288 with 1 Axes>"
            ]
          },
          "metadata": {
            "tags": [],
            "needs_background": "light"
          }
        }
      ]
    },
    {
      "cell_type": "markdown",
      "metadata": {
        "id": "WlgGXWwWq9yp"
      },
      "source": [
        "Using SKlearn Library"
      ]
    },
    {
      "cell_type": "code",
      "metadata": {
        "id": "lSO4UFonq9yp",
        "outputId": "145afd77-e6f6-4541-9d46-e62632fbf111"
      },
      "source": [
        "x.shape"
      ],
      "execution_count": null,
      "outputs": [
        {
          "output_type": "execute_result",
          "data": {
            "text/plain": [
              "(50,)"
            ]
          },
          "metadata": {
            "tags": []
          },
          "execution_count": 73
        }
      ]
    },
    {
      "cell_type": "code",
      "metadata": {
        "id": "-GrXmxySq9yq",
        "outputId": "d8b6d8bf-358a-45ed-d1c8-ec3687531725"
      },
      "source": [
        "(x[:,np.newaxis]).shape"
      ],
      "execution_count": null,
      "outputs": [
        {
          "output_type": "execute_result",
          "data": {
            "text/plain": [
              "(50, 1)"
            ]
          },
          "metadata": {
            "tags": []
          },
          "execution_count": 74
        }
      ]
    },
    {
      "cell_type": "code",
      "metadata": {
        "id": "R9K0TriKq9yr",
        "outputId": "349a9e18-f387-4108-8ebe-3fbd32496819"
      },
      "source": [
        "from sklearn.linear_model import LinearRegression\n",
        "\n",
        "model = LinearRegression(fit_intercept=True)\n",
        "model.fit(x[:, np.newaxis], y)"
      ],
      "execution_count": null,
      "outputs": [
        {
          "output_type": "execute_result",
          "data": {
            "text/plain": [
              "LinearRegression(copy_X=True, fit_intercept=True, n_jobs=None,\n",
              "         normalize=False)"
            ]
          },
          "metadata": {
            "tags": []
          },
          "execution_count": 78
        }
      ]
    },
    {
      "cell_type": "code",
      "metadata": {
        "id": "khUO4pcBq9yr"
      },
      "source": [
        "xfit_1 = np.linspace(0, 10, 1000)\n",
        "yfit_1 = model.predict(xfit_1[:, np.newaxis])\n"
      ],
      "execution_count": null,
      "outputs": []
    },
    {
      "cell_type": "code",
      "metadata": {
        "id": "Ms4Tbfehq9ys",
        "outputId": "6b14ffd1-f2ba-4eba-84f0-d0f8f6315229"
      },
      "source": [
        "model.get_params()"
      ],
      "execution_count": null,
      "outputs": [
        {
          "output_type": "execute_result",
          "data": {
            "text/plain": [
              "{'copy_X': True, 'fit_intercept': True, 'n_jobs': None, 'normalize': False}"
            ]
          },
          "metadata": {
            "tags": []
          },
          "execution_count": 80
        }
      ]
    },
    {
      "cell_type": "code",
      "metadata": {
        "id": "KBOG86xpq9yt",
        "outputId": "d555d650-3e8a-4ed7-85c8-29dd361d8d64"
      },
      "source": [
        "plt.scatter(x,y)\n",
        "plt.plot(xfit_1, yfit_1)"
      ],
      "execution_count": null,
      "outputs": [
        {
          "output_type": "execute_result",
          "data": {
            "text/plain": [
              "[<matplotlib.lines.Line2D at 0x17ba05160b8>]"
            ]
          },
          "metadata": {
            "tags": []
          },
          "execution_count": 81
        },
        {
          "output_type": "display_data",
          "data": {
            "image/png": "[encoded data removed]",
            "text/plain": [
              "<Figure size 432x288 with 1 Axes>"
            ]
          },
          "metadata": {
            "tags": [],
            "needs_background": "light"
          }
        }
      ]
    },
    {
      "cell_type": "code",
      "metadata": {
        "id": "84kSTxd0q9yt"
      },
      "source": [
        ""
      ],
      "execution_count": null,
      "outputs": []
    }
  ]
}